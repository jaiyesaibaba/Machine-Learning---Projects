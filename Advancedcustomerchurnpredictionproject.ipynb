{
 "cells": [
  {
   "cell_type": "code",
   "execution_count": 2,
   "id": "64614e65-eab1-4b42-bb71-18eef179f48c",
   "metadata": {},
   "outputs": [
    {
     "name": "stdout",
     "output_type": "stream",
     "text": [
      "Collecting xgboost\n",
      "  Downloading xgboost-3.0.4-py3-none-win_amd64.whl.metadata (2.1 kB)\n",
      "Requirement already satisfied: numpy in c:\\users\\lenovo\\anaconda3\\lib\\site-packages (from xgboost) (2.1.3)\n",
      "Requirement already satisfied: scipy in c:\\users\\lenovo\\anaconda3\\lib\\site-packages (from xgboost) (1.15.3)\n",
      "Downloading xgboost-3.0.4-py3-none-win_amd64.whl (56.8 MB)\n",
      "   ---------------------------------------- 0.0/56.8 MB ? eta -:--:--\n",
      "   - -------------------------------------- 1.8/56.8 MB 10.6 MB/s eta 0:00:06\n",
      "   -- ------------------------------------- 3.4/56.8 MB 8.9 MB/s eta 0:00:06\n",
      "   --- ------------------------------------ 5.0/56.8 MB 8.2 MB/s eta 0:00:07\n",
      "   ----- ---------------------------------- 7.3/56.8 MB 9.0 MB/s eta 0:00:06\n",
      "   ------ --------------------------------- 8.7/56.8 MB 8.5 MB/s eta 0:00:06\n",
      "   ------- -------------------------------- 10.7/56.8 MB 9.0 MB/s eta 0:00:06\n",
      "   --------- ------------------------------ 12.8/56.8 MB 8.9 MB/s eta 0:00:05\n",
      "   --------- ------------------------------ 14.2/56.8 MB 8.6 MB/s eta 0:00:05\n",
      "   ---------- ----------------------------- 15.5/56.8 MB 8.3 MB/s eta 0:00:05\n",
      "   ----------- ---------------------------- 17.0/56.8 MB 8.1 MB/s eta 0:00:05\n",
      "   ------------- -------------------------- 18.6/56.8 MB 8.0 MB/s eta 0:00:05\n",
      "   -------------- ------------------------- 19.9/56.8 MB 8.0 MB/s eta 0:00:05\n",
      "   --------------- ------------------------ 21.5/56.8 MB 7.9 MB/s eta 0:00:05\n",
      "   ---------------- ----------------------- 22.8/56.8 MB 7.8 MB/s eta 0:00:05\n",
      "   ----------------- ---------------------- 24.4/56.8 MB 7.8 MB/s eta 0:00:05\n",
      "   ------------------ --------------------- 26.2/56.8 MB 7.8 MB/s eta 0:00:04\n",
      "   ------------------- -------------------- 27.8/56.8 MB 7.8 MB/s eta 0:00:04\n",
      "   -------------------- ------------------- 29.6/56.8 MB 7.9 MB/s eta 0:00:04\n",
      "   ---------------------- ----------------- 31.5/56.8 MB 7.9 MB/s eta 0:00:04\n",
      "   ----------------------- ---------------- 33.0/56.8 MB 7.9 MB/s eta 0:00:04\n",
      "   ------------------------ --------------- 34.9/56.8 MB 7.9 MB/s eta 0:00:03\n",
      "   ------------------------- -------------- 36.7/56.8 MB 8.0 MB/s eta 0:00:03\n",
      "   -------------------------- ------------- 38.0/56.8 MB 7.9 MB/s eta 0:00:03\n",
      "   --------------------------- ------------ 39.1/56.8 MB 7.8 MB/s eta 0:00:03\n",
      "   ---------------------------- ----------- 40.4/56.8 MB 7.7 MB/s eta 0:00:03\n",
      "   ----------------------------- ---------- 41.4/56.8 MB 7.6 MB/s eta 0:00:03\n",
      "   ----------------------------- ---------- 41.9/56.8 MB 7.4 MB/s eta 0:00:03\n",
      "   ------------------------------ --------- 42.7/56.8 MB 7.3 MB/s eta 0:00:02\n",
      "   ------------------------------ --------- 43.3/56.8 MB 7.2 MB/s eta 0:00:02\n",
      "   ------------------------------ --------- 44.0/56.8 MB 7.0 MB/s eta 0:00:02\n",
      "   ------------------------------- -------- 44.8/56.8 MB 6.9 MB/s eta 0:00:02\n",
      "   -------------------------------- ------- 45.9/56.8 MB 6.8 MB/s eta 0:00:02\n",
      "   --------------------------------- ------ 46.9/56.8 MB 6.8 MB/s eta 0:00:02\n",
      "   --------------------------------- ------ 48.0/56.8 MB 6.7 MB/s eta 0:00:02\n",
      "   ---------------------------------- ----- 48.8/56.8 MB 6.7 MB/s eta 0:00:02\n",
      "   ----------------------------------- ---- 50.1/56.8 MB 6.6 MB/s eta 0:00:02\n",
      "   ----------------------------------- ---- 51.1/56.8 MB 6.6 MB/s eta 0:00:01\n",
      "   ------------------------------------ --- 52.2/56.8 MB 6.5 MB/s eta 0:00:01\n",
      "   ------------------------------------- -- 53.5/56.8 MB 6.5 MB/s eta 0:00:01\n",
      "   -------------------------------------- - 54.8/56.8 MB 6.5 MB/s eta 0:00:01\n",
      "   ---------------------------------------  56.1/56.8 MB 6.5 MB/s eta 0:00:01\n",
      "   ---------------------------------------  56.6/56.8 MB 6.5 MB/s eta 0:00:01\n",
      "   ---------------------------------------- 56.8/56.8 MB 6.4 MB/s eta 0:00:00\n",
      "Installing collected packages: xgboost\n",
      "Successfully installed xgboost-3.0.4\n"
     ]
    }
   ],
   "source": [
    "!pip install xgboost"
   ]
  },
  {
   "cell_type": "code",
   "execution_count": 3,
   "id": "af69e26c-e45e-4270-b8c6-36cb32f6054f",
   "metadata": {},
   "outputs": [],
   "source": [
    "import pandas as pd\n",
    "from sklearn.model_selection import train_test_split\n",
    "from sklearn.preprocessing import LabelEncoder, StandardScaler\n",
    "from sklearn.linear_model import LogisticRegression\n",
    "from sklearn.ensemble import RandomForestClassifier\n",
    "from xgboost import XGBClassifier  # This will work after installation\n",
    "from sklearn.metrics import accuracy_score, confusion_matrix, classification_report\n",
    "import matplotlib.pyplot as plt\n",
    "import seaborn as sns"
   ]
  },
  {
   "cell_type": "code",
   "execution_count": 4,
   "id": "e36f075a-fd41-43bd-8362-bdfd83a502d2",
   "metadata": {},
   "outputs": [],
   "source": [
    "df = pd.read_excel(\"customer_churn_dataset.xlsx\")"
   ]
  },
  {
   "cell_type": "code",
   "execution_count": 5,
   "id": "744529b3-6f65-481f-99c1-0bc1586def76",
   "metadata": {},
   "outputs": [],
   "source": [
    "label_encoders = {}\n",
    "for col in [\"Gender\", \"ContractType\", \"PaymentMethod\"]:\n",
    "    le = LabelEncoder()\n",
    "    df[col] = le.fit_transform(df[col])\n",
    "    label_encoders[col] = le"
   ]
  },
  {
   "cell_type": "code",
   "execution_count": 6,
   "id": "4abbb25a-6f5f-475c-b068-5e6c24c784ea",
   "metadata": {},
   "outputs": [],
   "source": [
    "X = df.drop([\"CustomerID\", \"Churn\"], axis=1)\n",
    "y = df[\"Churn\"]"
   ]
  },
  {
   "cell_type": "code",
   "execution_count": 7,
   "id": "8f2e5431-2474-4af7-b8a8-7b4050885c79",
   "metadata": {},
   "outputs": [],
   "source": [
    "scaler = StandardScaler()\n",
    "X_scaled = scaler.fit_transform(X)"
   ]
  },
  {
   "cell_type": "code",
   "execution_count": 8,
   "id": "5882f0c0-9956-4d58-bf1d-be17d0442db7",
   "metadata": {},
   "outputs": [],
   "source": [
    "X_train, X_test, y_train, y_test = train_test_split(\n",
    "    X_scaled, y, test_size=0.2, random_state=42\n",
    ")"
   ]
  },
  {
   "cell_type": "code",
   "execution_count": 10,
   "id": "e6e10b9c-1f16-4775-82b5-54349671fc95",
   "metadata": {},
   "outputs": [],
   "source": [
    "log_model = LogisticRegression(max_iter=1000)\n",
    "log_model.fit(X_train, y_train)\n",
    "y_pred_log = log_model.predict(X_test)"
   ]
  },
  {
   "cell_type": "code",
   "execution_count": 11,
   "id": "4d69dc17-24c3-4b79-bbcc-c36985c22bb5",
   "metadata": {},
   "outputs": [
    {
     "name": "stdout",
     "output_type": "stream",
     "text": [
      "🔹 Logistic Regression Results\n",
      "Accuracy: 0.72\n",
      "[[72  0]\n",
      " [28  0]]\n",
      "              precision    recall  f1-score   support\n",
      "\n",
      "           0       0.72      1.00      0.84        72\n",
      "           1       0.00      0.00      0.00        28\n",
      "\n",
      "    accuracy                           0.72       100\n",
      "   macro avg       0.36      0.50      0.42       100\n",
      "weighted avg       0.52      0.72      0.60       100\n",
      "\n"
     ]
    },
    {
     "name": "stderr",
     "output_type": "stream",
     "text": [
      "C:\\Users\\Lenovo\\anaconda3\\Lib\\site-packages\\sklearn\\metrics\\_classification.py:1565: UndefinedMetricWarning: Precision is ill-defined and being set to 0.0 in labels with no predicted samples. Use `zero_division` parameter to control this behavior.\n",
      "  _warn_prf(average, modifier, f\"{metric.capitalize()} is\", len(result))\n",
      "C:\\Users\\Lenovo\\anaconda3\\Lib\\site-packages\\sklearn\\metrics\\_classification.py:1565: UndefinedMetricWarning: Precision is ill-defined and being set to 0.0 in labels with no predicted samples. Use `zero_division` parameter to control this behavior.\n",
      "  _warn_prf(average, modifier, f\"{metric.capitalize()} is\", len(result))\n",
      "C:\\Users\\Lenovo\\anaconda3\\Lib\\site-packages\\sklearn\\metrics\\_classification.py:1565: UndefinedMetricWarning: Precision is ill-defined and being set to 0.0 in labels with no predicted samples. Use `zero_division` parameter to control this behavior.\n",
      "  _warn_prf(average, modifier, f\"{metric.capitalize()} is\", len(result))\n"
     ]
    }
   ],
   "source": [
    "print(\"🔹 Logistic Regression Results\")\n",
    "print(\"Accuracy:\", accuracy_score(y_test, y_pred_log))\n",
    "print(confusion_matrix(y_test, y_pred_log))\n",
    "print(classification_report(y_test, y_pred_log))"
   ]
  },
  {
   "cell_type": "code",
   "execution_count": 12,
   "id": "09fba33f-cefb-4d0b-adca-222c8f26ac17",
   "metadata": {},
   "outputs": [],
   "source": [
    "rf_model = RandomForestClassifier(n_estimators=200, random_state=42)\n",
    "rf_model.fit(X_train, y_train)\n",
    "y_pred_rf = rf_model.predict(X_test)"
   ]
  },
  {
   "cell_type": "code",
   "execution_count": 13,
   "id": "042bb7d3-9cb7-4c6b-bc65-4416c8cf44e4",
   "metadata": {},
   "outputs": [
    {
     "name": "stdout",
     "output_type": "stream",
     "text": [
      "\n",
      "🔹 Random Forest Results\n",
      "Accuracy: 0.71\n",
      "[[68  4]\n",
      " [25  3]]\n",
      "              precision    recall  f1-score   support\n",
      "\n",
      "           0       0.73      0.94      0.82        72\n",
      "           1       0.43      0.11      0.17        28\n",
      "\n",
      "    accuracy                           0.71       100\n",
      "   macro avg       0.58      0.53      0.50       100\n",
      "weighted avg       0.65      0.71      0.64       100\n",
      "\n"
     ]
    }
   ],
   "source": [
    "print(\"\\n🔹 Random Forest Results\")\n",
    "print(\"Accuracy:\", accuracy_score(y_test, y_pred_rf))\n",
    "print(confusion_matrix(y_test, y_pred_rf))\n",
    "print(classification_report(y_test, y_pred_rf))"
   ]
  },
  {
   "cell_type": "code",
   "execution_count": 14,
   "id": "9a5ee01c-f361-4495-ae53-ddcddfd77cc0",
   "metadata": {},
   "outputs": [],
   "source": [
    "importances = rf_model.feature_importances_\n",
    "features = X.columns\n",
    "feat_imp = pd.DataFrame({\"Feature\": features, \"Importance\": importances})\n",
    "feat_imp = feat_imp.sort_values(by=\"Importance\", ascending=False)"
   ]
  },
  {
   "cell_type": "code",
   "execution_count": 15,
   "id": "8b5c8b6d-0a12-4355-a4cb-ad400e10cd11",
   "metadata": {},
   "outputs": [
    {
     "data": {
      "image/png": "[encoded data removed]",
      "text/plain": [
       "<Figure size 800x500 with 1 Axes>"
      ]
     },
     "metadata": {},
     "output_type": "display_data"
    }
   ],
   "source": [
    "plt.figure(figsize=(8,5))\n",
    "sns.barplot(x=\"Importance\", y=\"Feature\", data=feat_imp)\n",
    "plt.title(\"Feature Importance - Random Forest\")\n",
    "plt.show()"
   ]
  },
  {
   "cell_type": "code",
   "execution_count": 16,
   "id": "0e4386a6-5977-4812-afc1-5a087845b0e4",
   "metadata": {},
   "outputs": [
    {
     "name": "stderr",
     "output_type": "stream",
     "text": [
      "C:\\Users\\Lenovo\\anaconda3\\Lib\\site-packages\\xgboost\\training.py:183: UserWarning: [20:40:45] WARNING: C:\\actions-runner\\_work\\xgboost\\xgboost\\src\\learner.cc:738: \n",
      "Parameters: { \"use_label_encoder\" } are not used.\n",
      "\n",
      "  bst.update(dtrain, iteration=i, fobj=obj)\n"
     ]
    }
   ],
   "source": [
    "xgb_model = XGBClassifier(use_label_encoder=False, eval_metric=\"logloss\", random_state=42)\n",
    "xgb_model.fit(X_train, y_train)\n",
    "y_pred_xgb = xgb_model.predict(X_test)"
   ]
  },
  {
   "cell_type": "code",
   "execution_count": 17,
   "id": "a1dc0197-bfdb-41c2-935a-bdd794ad2e92",
   "metadata": {},
   "outputs": [
    {
     "name": "stdout",
     "output_type": "stream",
     "text": [
      "\n",
      "🔹 XGBoost Results\n",
      "Accuracy: 0.66\n",
      "[[58 14]\n",
      " [20  8]]\n",
      "              precision    recall  f1-score   support\n",
      "\n",
      "           0       0.74      0.81      0.77        72\n",
      "           1       0.36      0.29      0.32        28\n",
      "\n",
      "    accuracy                           0.66       100\n",
      "   macro avg       0.55      0.55      0.55       100\n",
      "weighted avg       0.64      0.66      0.65       100\n",
      "\n"
     ]
    }
   ],
   "source": [
    "print(\"\\n🔹 XGBoost Results\")\n",
    "print(\"Accuracy:\", accuracy_score(y_test, y_pred_xgb))\n",
    "print(confusion_matrix(y_test, y_pred_xgb))\n",
    "print(classification_report(y_test, y_pred_xgb))"
   ]
  },
  {
   "cell_type": "code",
   "execution_count": 18,
   "id": "7a96ba07-358e-49b2-9dae-9703a53696ce",
   "metadata": {},
   "outputs": [],
   "source": [
    "xgb_importances = xgb_model.feature_importances_\n",
    "feat_imp_xgb = pd.DataFrame({\"Feature\": features, \"Importance\": xgb_importances})\n",
    "feat_imp_xgb = feat_imp_xgb.sort_values(by=\"Importance\", ascending=False)"
   ]
  },
  {
   "cell_type": "code",
   "execution_count": 19,
   "id": "928f470e-9b1e-4a27-88d2-6bb5d8ea17cc",
   "metadata": {},
   "outputs": [
    {
     "data": {
      "image/png": "[encoded data removed]",
      "text/plain": [
       "<Figure size 800x500 with 1 Axes>"
      ]
     },
     "metadata": {},
     "output_type": "display_data"
    }
   ],
   "source": [
    "plt.figure(figsize=(8,5))\n",
    "sns.barplot(x=\"Importance\", y=\"Feature\", data=feat_imp_xgb)\n",
    "plt.title(\"Feature Importance - XGBoost\")\n",
    "plt.show()"
   ]
  },
  {
   "cell_type": "code",
   "execution_count": null,
   "id": "944b6149-a2fe-4c94-93df-efa86da43eb4",
   "metadata": {},
   "outputs": [],
   "source": []
  }
 ],
 "metadata": {
  "kernelspec": {
   "display_name": "Python [conda env:base] *",
   "language": "python",
   "name": "conda-base-py"
  },
  "language_info": {
   "codemirror_mode": {
    "name": "ipython",
    "version": 3
   },
   "file_extension": ".py",
   "mimetype": "text/x-python",
   "name": "python",
   "nbconvert_exporter": "python",
   "pygments_lexer": "ipython3",
   "version": "3.13.5"
  }
 },
 "nbformat": 4,
 "nbformat_minor": 5
}
